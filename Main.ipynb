{
 "cells": [
  {
   "cell_type": "code",
   "execution_count": null,
   "metadata": {},
   "outputs": [],
   "source": [
    "# Transfer matrix code for light propagation through planar uniaxial layers\n",
    "# Current example computes the transmission coeffcicnt of light through\n",
    "# distributed bragg mirrors with a defect layer\n",
    " \n",
    "from TransferMatrix import  TMM\n",
    "import cmath as math \n",
    "import numpy as np\n",
    "\n",
    "n1=1;\n",
    "n2=6;\n",
    "\n",
    "lam00=1.55;\n",
    "\n",
    "d1=lam00/(4*n1)\n",
    "d2=lam00/(4*n2)\n",
    "\n",
    "\n",
    "eps1=n1**2;\n",
    "eps2=n2**2;\n",
    "\n",
    "# provide a list of permittivity of each layer here\n",
    "epsxx=[1,eps2,eps1,eps2,eps1,eps2,eps2,eps1,eps2,eps1,eps2,1] \n",
    "epsyz=[1,eps2,eps1,eps2,eps1,eps2,eps2,eps1,eps2,eps1,eps2,1]\n",
    "# provide a list of thickness of each layer here\n",
    "xd=[0,d2,d1,d2,d1,d2,d2,d1,d2,d1,d2,0]\n",
    "pol='TE' # Polarization of light\n",
    "kz=0 # Incident wavevector =k0*sin(theta) for incident angle theta  \n",
    "lamLst=np.linspace(0.5,4.5,16001) # List of wavelenghts to consider\n",
    "R=[]\n",
    "T=[]\n",
    "for lam0 in lamLst:\n",
    "    k0=2*math.pi/lam0\n",
    "    myf = TMM(epsxx,epsyz,xd,kz,k0,pol)\n",
    "    R.append(myf.Ref())\n",
    "    T.append(myf.Tran())\n",
    "\n",
    "import matplotlib.pyplot as plt\n",
    "plt.plot(lamLst,T)\n",
    "plt.xlabel('Wavelength (microns)')\n",
    "plt.ylabel('Transmission')"
   ]
  }
 ],
 "metadata": {
  "kernelspec": {
   "display_name": "Python 3",
   "language": "python",
   "name": "python3"
  },
  "language_info": {
   "codemirror_mode": {
    "name": "ipython",
    "version": 3
   },
   "file_extension": ".py",
   "mimetype": "text/x-python",
   "name": "python",
   "nbconvert_exporter": "python",
   "pygments_lexer": "ipython3",
   "version": "3.7.1"
  }
 },
 "nbformat": 4,
 "nbformat_minor": 2
}
